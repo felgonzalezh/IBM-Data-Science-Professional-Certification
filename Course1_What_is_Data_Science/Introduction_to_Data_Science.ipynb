{
 "cells": [
  {
   "cell_type": "markdown",
   "metadata": {},
   "source": [
    "# About me\n",
    "\n",
    "If there is a field of data science I love the most is machine learning. As a scientist, I'm really passionate about modeling data and predicting its behavior. My curiosity and programming skills have always driven me to dig deep into a problem to find creative solutions. I would love to do data visualization since as a Physics teacher in different academic backgrounds, I've always found creative and simple ways to explain complex subjects in understandable words."
   ]
  },
  {
   "cell_type": "markdown",
   "metadata": {},
   "source": [
    "# What is Data Science? "
   ]
  },
  {
   "cell_type": "markdown",
   "metadata": {},
   "source": [
    "Data science refers to the scientific methodology to analyze data. A huge amount of data is produced daily coming from different sources, types, and formats, etc. Therefore specialized tools and methods have been developed to handle the data and extract from it all the possible information to solve a particular problem.\n",
    "\n",
    "* Data science is the study of large quantities of data, which can reveal insights that help organizations make strategic choices.\n",
    "* There are  many paths to a career in data science; most, but not all, involve a little math, a little science, and a lot of curiosity about data.\n",
    "* New data scientists need to be curious, judgemental and argumentative."
   ]
  },
  {
   "cell_type": "markdown",
   "metadata": {},
   "source": [
    "## A Data Scientist"
   ]
  },
  {
   "cell_type": "markdown",
   "metadata": {},
   "source": [
    "A data scientist is a really good storyteller capable to communicate all the insights obtained from the data analysis. However, not only technical skills, such as programming and statistical skills, are needed to become a data scientist, curiosity and passion are really important keys which will drive you to dig into the data to unravel all its trends, all its secrets.\n",
    "\n",
    "* The typical work day for a Data Scientist varies depending on what type of project they are working on.\n",
    "* Need programming, mathematics, and database skills, many of which can be gained through self-learning.\n",
    "* Many algorithms are used to bring out insights from data. \n",
    "* Accessing algorithms, tools, and data through the Cloud enables Data Scientists to stay up-to-date and collaborate easily."
   ]
  },
  {
   "cell_type": "markdown",
   "metadata": {},
   "source": [
    "# Big Data"
   ]
  },
  {
   "cell_type": "markdown",
   "metadata": {},
   "source": [
    "Big Data is defined by the Vs: Velocity, Volume, Variety, Veracity, and Value."
   ]
  },
  {
   "cell_type": "markdown",
   "metadata": {},
   "source": [
    "## Data Mining, Machine Learning And Deep Learning"
   ]
  },
  {
   "cell_type": "markdown",
   "metadata": {},
   "source": [
    "### Data Mining\n",
    "Data mining is an automatic process to search and analyze data. It allows to reveal unknown patterns in the data. \n",
    "\n",
    "Of course, it's really important to identify the key questions that we try to be answered from the data, the expected level of accuracy. It involves:\n",
    "* Selecting. Looking for the proper data\n",
    "* Preparing. Cleansing the data. \n",
    "* Transforming it into an appropiate format. \n",
    "* Storing.\n",
    "* Mining, which covers the data analysis methods (methods, ML, etc)\n",
    "* Evaluating results."
   ]
  },
  {
   "cell_type": "markdown",
   "metadata": {},
   "source": [
    "### Machine Learning \n",
    "\n",
    "Machine Learning is the process to \"teach\" a computer to get insights and to take intelligent decisions based on the data. ML algorithms are trained using large sets of data, they learn from the data and make decisions according to it without any rules-based algorithms. \n",
    "\n",
    "\n",
    "### Deep Learning\n",
    "\n",
    "Deep Learning is just a subset of ML which try to emulate the human decision-making. DL learns from large sets of data using  layered neural networks. Therefore, according to the data, DL algorithms are able to label, to categorize information and identiy patterns.\n",
    "\n",
    "### Artificial neural networks\n",
    "\n",
    "Neural Networks in AI is a collection of small computing units, called neurons, that take incoming data and learn to make decisions over time. \n"
   ]
  },
  {
   "cell_type": "markdown",
   "metadata": {},
   "source": [
    "# A Data Science Project Report\n",
    "\n",
    "1. Cover page\n",
    "2. Table of Contents\n",
    "3. Abstract or Executive Summary\n",
    "4. Introduction\n",
    "    Literature review\n",
    "5. Methodology\n",
    "6. Results\n",
    "7. Discussion\n",
    "8. Conclusions\n",
    "9. References\n",
    "10. Acknowledgments\n",
    "Appendices "
   ]
  },
  {
   "cell_type": "code",
   "execution_count": null,
   "metadata": {},
   "outputs": [],
   "source": []
  }
 ],
 "metadata": {
  "kernelspec": {
   "display_name": "Python 3",
   "language": "python",
   "name": "python3"
  },
  "language_info": {
   "codemirror_mode": {
    "name": "ipython",
    "version": 3
   },
   "file_extension": ".py",
   "mimetype": "text/x-python",
   "name": "python",
   "nbconvert_exporter": "python",
   "pygments_lexer": "ipython3",
   "version": "3.7.3"
  }
 },
 "nbformat": 4,
 "nbformat_minor": 2
}
