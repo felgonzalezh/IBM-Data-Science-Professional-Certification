{
 "cells": [
  {
   "cell_type": "markdown",
   "metadata": {},
   "source": [
    "### 1. Fully integrated visual tools category. \n",
    "Cloud provider softwares usually covers the complete development life cycle for all data science, machine learning, and AI tasks. \n",
    "* Watson Studio, together with Watson OpenScale, \n",
    "* Microsoft Azure Machine Learning. \n",
    "* H2O Driverless AI. \n",
    " \n",
    "\n",
    "### 1. Data management, \n",
    "\n",
    "The cloud provider operates the product by backing up your data and configuration and installing updates. \n",
    "\n",
    "* Amazon Web Services DynamoDB manages NoSQL database for storage and retrieval of data in a key-value or a document store format (JSON).\n",
    "* Cloudant, under the hood it is based on Apache CouchDB, perform tasks like updating, backup, restore, and scaling are done by the cloud provider. Therefore, the application can be migrated to another CouchDB server without changing the application. \n",
    "* IBM offers Db2.\n",
    "\n",
    "### 2. Commercial data integration tools\n",
    "* Informatica Cloud Data Integration \n",
    "* IBM’s Data Refinery. Data Refinery is part of IBM Watson Studio. \n",
    "\n",
    "### 3. Cloud data visualization tools\n",
    "* DataMeer. \n",
    "* Cognos Business intelligence. IBM Data Refinery also offers data exploration and visualization functionality in Watson Studio. \n",
    "\n",
    "### 4. Model building\n",
    "* Watson Machine Learning. Watson Machine Learning can train and build models using various open source libraries.\n",
    "* AI Platform Training (by Google).\n",
    "\n",
    "### 5. Model deployment\n",
    "In commercial software, they are usually integrated to the model building process. They can can export models in an open format\n",
    "* SPSS Collaboration and Deployment Services  \n",
    "* SPSS Modeler supports exporting models as Predictive Model Markup Language, or “PMML,” which can be read by numerous other commercial and open software packages. \n",
    "* Watson Machine Learning can also be used to deploy a model and make it available to consumers using a REST interface.\n",
    "* Amazon SageMaker Model Monitor is  a cloud tool that continuously monitors deployed machine learning and deep learning models. \n"
   ]
  },
  {
   "cell_type": "code",
   "execution_count": null,
   "metadata": {},
   "outputs": [],
   "source": []
  }
 ],
 "metadata": {
  "kernelspec": {
   "display_name": "Python 3",
   "language": "python",
   "name": "python3"
  },
  "language_info": {
   "codemirror_mode": {
    "name": "ipython",
    "version": 3
   },
   "file_extension": ".py",
   "mimetype": "text/x-python",
   "name": "python",
   "nbconvert_exporter": "python",
   "pygments_lexer": "ipython3",
   "version": "3.7.3"
  }
 },
 "nbformat": 4,
 "nbformat_minor": 2
}
